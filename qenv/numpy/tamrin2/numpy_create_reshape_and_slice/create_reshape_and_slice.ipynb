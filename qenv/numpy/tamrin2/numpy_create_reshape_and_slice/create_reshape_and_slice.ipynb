{
 "cells": [
  {
   "cell_type": "markdown",
   "metadata": {},
   "source": [
    "<h1 align=center style=\"line-height:200%;font-family:vazir;color:#0099cc\">\n",
    "<font face=\"vazir\" color=\"#0099cc\">\n",
    "ایجاد، تغییر شکل و برش آرایه‌ها\n",
    "</font>\n",
    "</h1>\n"
   ]
  },
  {
   "attachments": {},
   "cell_type": "markdown",
   "metadata": {},
   "source": [
    "<p dir=rtl style=\"direction: rtl;text-align: justify;line-height:200%;font-family:vazir;font-size:medium\">\n",
    "<font face=\"vazir\" size=3>\n",
    "در این تمرین، ابتدا تعدادی آرایه ایجاد می‌کنیم. سپس ابعاد آنها را تغییر می‌دهیم و آرایه‌های جدیدی می‌سازیم. در آخر با استفاده از ویژگی <code>slicing</code> نامپای، قسمتی از آرایه‌ها را برش می‌دهیم. برای گرفتن نمره کامل این سوال، باید همه متغیر‌ها را درست به دست آورید.\n",
    "</font>\n",
    "</p>"
   ]
  },
  {
   "cell_type": "code",
   "execution_count": 65,
   "metadata": {},
   "outputs": [],
   "source": [
    "import numpy as np\n"
   ]
  },
  {
   "attachments": {},
   "cell_type": "markdown",
   "metadata": {},
   "source": [
    "<h2 align=right style=\"line-height:200%;font-family:vazir;color:#0099cc\">\n",
    "<font face=\"vazir\" color=\"#0099cc\">\n",
    "بخش اول: ساخت آرایه‌ها\n",
    "</font>\n",
    "</h2>\n"
   ]
  },
  {
   "attachments": {},
   "cell_type": "markdown",
   "metadata": {},
   "source": [
    "<p dir=rtl style=\"direction: rtl;text-align: justify;line-height:200%;font-family:vazir;font-size:medium\">\n",
    "<font face=\"vazir\" size=3>\n",
    "    یک آرایه یک بعدی نامپای به نام <code>a</code>  بسازید که اعداد ۱ تا ۶۴ در آن ذخیره شده باشد. خود ۱ و ۶۴ هم جزو اعداد هستند.\n",
    "</font>\n",
    "</p>"
   ]
  },
  {
   "cell_type": "code",
   "execution_count": 66,
   "metadata": {},
   "outputs": [],
   "source": [
    "a = np.arange(1, 65)\n"
   ]
  },
  {
   "attachments": {},
   "cell_type": "markdown",
   "metadata": {},
   "source": [
    "<p dir=rtl style=\"direction: rtl;text-align: justify;line-height:200%;font-family:vazir;font-size:medium\">\n",
    "<font face=\"vazir\" size=3>\n",
    "    با کمک گرفتن از توابع عمومی نامپای، آرایه <code>b</code> را ایجاد کنید که سینوس مقادیر ذخیره شده در آرایه <code>a</code> می‌باشد.</font>\n",
    "</p>"
   ]
  },
  {
   "cell_type": "code",
   "execution_count": 67,
   "metadata": {},
   "outputs": [
    {
     "name": "stdout",
     "output_type": "stream",
     "text": [
      "[ 0.84147098  0.90929743  0.14112001 -0.7568025  -0.95892427 -0.2794155\n",
      "  0.6569866   0.98935825  0.41211849 -0.54402111 -0.99999021 -0.53657292\n",
      "  0.42016704  0.99060736  0.65028784 -0.28790332 -0.96139749 -0.75098725\n",
      "  0.14987721  0.91294525  0.83665564 -0.00885131 -0.8462204  -0.90557836\n",
      " -0.13235175  0.76255845  0.95637593  0.27090579 -0.66363388 -0.98803162\n",
      " -0.40403765  0.55142668  0.99991186  0.52908269 -0.42818267 -0.99177885\n",
      " -0.64353813  0.29636858  0.96379539  0.74511316 -0.15862267 -0.91652155\n",
      " -0.83177474  0.01770193  0.85090352  0.90178835  0.12357312 -0.76825466\n",
      " -0.95375265 -0.26237485  0.67022918  0.98662759  0.39592515 -0.55878905\n",
      " -0.99975517 -0.521551    0.43616476  0.99287265  0.63673801 -0.30481062\n",
      " -0.96611777 -0.7391807   0.1673557   0.92002604]\n"
     ]
    }
   ],
   "source": [
    "b = np.sin(a)\n",
    "print(b)\n"
   ]
  },
  {
   "attachments": {},
   "cell_type": "markdown",
   "metadata": {},
   "source": [
    "<p dir=rtl style=\"direction: rtl;text-align: justify;line-height:200%;font-family:vazir;font-size:medium\">\n",
    "<font face=\"vazir\" size=3>\n",
    "    یک آرایه یک بعدی نامپای به نام <code>c</code> بسازید که شامل ۳۰ عدد بین ۱ و ۱۰۰ (شامل خود ۱ و ۱۰۰) با فاصله‌ی برابر باشد، نوع داده را برابر عدد حقیقی ۱۶ بیتی <code>float16</code>  قرار دهید.\n",
    "</font>\n",
    "<br>\n",
    "<font face=\"vazir\" size=3 color=\"green\">\n",
    "    <b>راهنمایی:</b>\n",
    "</font>\n",
    "<font face=\"vazir\" size=3>\n",
    "    بدین منظور می‌توانید از تابع <a href=\"https://numpy.org/doc/stable/reference/generated/numpy.linspace.html\"><code>linspace</code></a> کتابخانه‌ی نامپای بهره ببرید. کافیست اعداد شروع و پایان بازه و همچنین تعداد موردنظر خود را برای این تابع مشخص کنید، تا به تولید آن تعداد عدد در بازه‌ی موردنظر شما و با فاصله‌های برابر بپردازد.\n",
    "</font>\n",
    "</p>\n"
   ]
  },
  {
   "cell_type": "code",
   "execution_count": 68,
   "metadata": {},
   "outputs": [],
   "source": [
    "c = np.linspace(1, 100 , 30, dtype= np.float16)\n"
   ]
  },
  {
   "attachments": {},
   "cell_type": "markdown",
   "metadata": {},
   "source": [
    "<p dir=rtl style=\"direction: rtl;text-align: justify;line-height:200%;font-family:vazir;font-size:medium\">\n",
    "<font face=\"vazir\" size=3>\n",
    "    یک آرایه‌ی یک بعدی نامپای به نام <code>d</code> بسازید که اولین عدد آن ۱۲۵ و آخرین عدد آن ۱ باشد. یعنی اعداد از ۱۲۵ تا ۱ یکی یکی کم شوند.\n",
    "</font>\n",
    "</p>\n"
   ]
  },
  {
   "cell_type": "code",
   "execution_count": 69,
   "metadata": {},
   "outputs": [],
   "source": [
    "d = np.arange(125, 0, -1)\n"
   ]
  },
  {
   "attachments": {},
   "cell_type": "markdown",
   "metadata": {},
   "source": [
    "<h2 align=right style=\"direction:rtl;line-height:200%;font-family:vazir;color:#0099cc\">\n",
    "<font face=\"vazir\" color=\"#0099cc\">\n",
    "بخش دوم: بازآرایی (reshape) </font>\n",
    "</h2>\n"
   ]
  },
  {
   "attachments": {},
   "cell_type": "markdown",
   "metadata": {},
   "source": [
    "<p dir=rtl style=\"direction: rtl;text-align: justify;line-height:200%;font-family:vazir;font-size:medium\">\n",
    "<font face=\"vazir\" size=3>\n",
    "    در این بخش، آرایه‌های <code>c</code> و <code>d</code> که در بخش قبل ساختید را به آرایه‌هایی دو بعدی و سه بعدی تبدیل می‌کنید. برای این‌کار نیاز است از تابع <code>reshape</code> استفاده کنید.\n",
    "</font>\n",
    "</p>\n"
   ]
  },
  {
   "attachments": {},
   "cell_type": "markdown",
   "metadata": {},
   "source": [
    "<p dir=rtl style=\"direction: rtl;text-align: justify;line-height:200%;font-family:vazir;font-size:medium\">\n",
    "<font face=\"vazir\" size=3>\n",
    "    ابتدا آرایه‌ی <code>c</code> را به آرایه‌ای دو بعدی با اندازه ۵ در محور اول و اندازه ۶ در محور دوم تبدیل کنید و در متغیر <code>e</code> ذخیره کنید.\n",
    "</font>\n",
    "<br>\n",
    "<font face=\"vazir\" size=3 color=\"#0099cc\">\n",
    "    <b>نکته:</b>\n",
    "</font>\n",
    "<font face=\"vazir\" size=3>\n",
    "توجه داشته باید که در تمام تصاویر این تمرین هر مکعب به معنای یک عنصر (یک مقدار از آرایه) است.\n",
    "</font>\n",
    "</p>\n",
    "\n",
    "\n",
    "<center>\n",
    "<div style=\"max-width: 100%\">\n",
    "<img src=\"e_preview.jpg\">\n",
    "</div>\n",
    "</center>"
   ]
  },
  {
   "cell_type": "code",
   "execution_count": 70,
   "metadata": {},
   "outputs": [],
   "source": [
    "e = c.reshape(5, 6)\n"
   ]
  },
  {
   "attachments": {},
   "cell_type": "markdown",
   "metadata": {},
   "source": [
    "<p dir=rtl style=\"direction: rtl;text-align: justify;line-height:200%;font-family:vazir;font-size:medium\">\n",
    "<font face=\"vazir\" size=3>\n",
    "    اکنون آرایه‌ی <code>d</code> را به آرایه‌ای سه بعدی با اندازه‌ی ۵ در هر سه محور تبدیل کنید و در متغیر <code>f</code> ذخیره کنید.</font>\n",
    "</p>\n",
    "\n",
    "<center>\n",
    "<div style=\"max-width: 600px\">\n",
    "<img src=\"f_preview.jpg\">\n",
    "</div>\n",
    "</center>\n"
   ]
  },
  {
   "cell_type": "code",
   "execution_count": 71,
   "metadata": {},
   "outputs": [],
   "source": [
    "f = d.reshape(5, 5, 5)\n"
   ]
  },
  {
   "attachments": {},
   "cell_type": "markdown",
   "metadata": {},
   "source": [
    "<h2 align=right style=\"line-height:200%;font-family:vazir;color:#0099cc\">\n",
    "<font face=\"vazir\" color=\"#0099cc\">\n",
    "(slice) بخش سوم: برش\n",
    "</font>\n",
    "</h2>\n"
   ]
  },
  {
   "attachments": {},
   "cell_type": "markdown",
   "metadata": {},
   "source": [
    "<p dir=rtl style=\"direction: rtl;text-align: justify;line-height:200%;font-family:vazir;font-size:medium\">\n",
    "<font face=\"vazir\" size=3>\n",
    "    آرایه‌ی دو‌بعدی <code>e</code> را مطابق شکل زیر برش دهید و در متغیر <code>g</code> ذخیره کنید. یعنی در متغیر <code>g</code> تنها باید مواردی که در ماتریس زیر پررنگ شده‌اند را خروجی دهید، یعنی ماتریس خروجی شما باید دارای ابعاد ۳ در ۳ باشد.</p>\n",
    "\n",
    "<center>\n",
    "<div style=\"max-width: 600px\">\n",
    "<img src=\"g_preview.jpg\">\n",
    "</div>\n",
    "</center>"
   ]
  },
  {
   "cell_type": "code",
   "execution_count": 72,
   "metadata": {},
   "outputs": [
    {
     "name": "stdout",
     "output_type": "stream",
     "text": [
      "[[  4.414  11.24   18.06 ]\n",
      " [ 45.38   52.22   59.03 ]\n",
      " [ 86.4    93.2   100.   ]]\n"
     ]
    }
   ],
   "source": [
    "g = e[::2, 1::2]\n",
    "print(g)\n"
   ]
  },
  {
   "attachments": {},
   "cell_type": "markdown",
   "metadata": {},
   "source": [
    "<p dir=rtl style=\"direction: rtl;text-align: justify;line-height:200%;font-family:vazir;font-size:medium\">\n",
    "<font face=\"vazir\" size=3>\n",
    "    آرایه‌ی سه‌بعدی <code>f</code> را مطابق شکل زیر برش دهید و در متغیر <code>h</code> بریزید. آرایه‌ی خروجی، سه‌بعدی و دارای ۸ عدد خواهد بود (هرکدام از مکعب‌ها یک عنصر از آرایه هستند و مجموعاً ۸ مکعب پررنگ نشان داده شده است).\n",
    "</p>\n",
    "\n",
    "<center>\n",
    "<div style=\"max-width: 600px\">\n",
    "<img src=\"h_preview.jpg\">\n",
    "</div>\n",
    "</center>"
   ]
  },
  {
   "cell_type": "code",
   "execution_count": 73,
   "metadata": {},
   "outputs": [],
   "source": [
    "\n",
    "h = f[0:2, 3:5, 0:2]\n",
    "\n"
   ]
  },
  {
   "attachments": {},
   "cell_type": "markdown",
   "metadata": {},
   "source": [
    "<h2 align=right style=\"line-height:200%;font-family:vazir;color:#0099cc\">\n",
    "<font face=\"vazir\" color=\"#0099cc\">\n",
    "<b>سلول جواب‌ساز</b>\n",
    "</font>\n",
    "</h2>\n",
    "\n",
    "\n",
    "<p dir=rtl style=\"direction: rtl; text-align: justify; line-height:200%; font-family:vazir; font-size:medium\">\n",
    "<font face=\"vazir\" size=3>\n",
    "    برای ساخته‌شدن فایل <code>result.zip</code> سلول زیر را اجرا کنید. توجه داشته باشید که پیش از اجرای سلول زیر تغییرات اعمال شده در نت‌بوک را ذخیره کرده باشید (<code>ctrl+s</code>) تا در صورت نیاز به پشتیبانی امکان بررسی کد شما وجود داشته باشد.\n",
    "</font>\n",
    "</p>"
   ]
  },
  {
   "cell_type": "code",
   "execution_count": 74,
   "metadata": {},
   "outputs": [
    {
     "name": "stdout",
     "output_type": "stream",
     "text": [
      "File Paths:\n",
      "['answers.npz', 'create_reshape_and_slice.ipynb']\n"
     ]
    }
   ],
   "source": [
    "import zlib\n",
    "import zipfile\n",
    "\n",
    "np.savez(\"answers.npz\", a = a, b = b, c = c, d = d, e = e, f = f, g = g, h = h)\n",
    "\n",
    "def compress(file_names):\n",
    "    print(\"File Paths:\")\n",
    "    print(file_names)\n",
    "    compression = zipfile.ZIP_DEFLATED\n",
    "    with zipfile.ZipFile(\"result.zip\", mode=\"w\") as zf:\n",
    "        for file_name in file_names:\n",
    "            zf.write('./' + file_name, file_name, compress_type=compression)\n",
    "\n",
    "file_names = [\"answers.npz\", \"create_reshape_and_slice.ipynb\"]\n",
    "compress(file_names)\n"
   ]
  }
 ],
 "metadata": {
  "kernelspec": {
   "display_name": "qenv",
   "language": "python",
   "name": "python3"
  },
  "language_info": {
   "codemirror_mode": {
    "name": "ipython",
    "version": 3
   },
   "file_extension": ".py",
   "mimetype": "text/x-python",
   "name": "python",
   "nbconvert_exporter": "python",
   "pygments_lexer": "ipython3",
   "version": "3.9.12"
  }
 },
 "nbformat": 4,
 "nbformat_minor": 2
}
