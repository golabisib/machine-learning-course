{
 "cells": [
  {
   "cell_type": "code",
   "execution_count": 2,
   "metadata": {},
   "outputs": [],
   "source": [
    "import numpy as np\n"
   ]
  },
  {
   "cell_type": "code",
   "execution_count": 3,
   "metadata": {},
   "outputs": [
    {
     "name": "stdout",
     "output_type": "stream",
     "text": [
      "a = [5 7 7 6]\n",
      "b = [1 5 3 8]\n",
      "[ 6 12 10 14]\n"
     ]
    }
   ],
   "source": [
    "a = np.random.randint(0, 10, 4) # آرایه‌ای شامل 4 عضو تصادفی در بازه 0 تا 9\n",
    "b = np.random.randint(0, 10, 4) # آرایه‌ای شامل 4 عضو تصادفی در بازه 0 تا 9\n",
    "print('a =', a)\n",
    "print('b =', b)\n",
    "\n",
    "def cal_sum(a, b) :\n",
    "    output = np.empty(len(a), dtype='int_')\n",
    "    for i in range(len(a)):\n",
    "        output[i] = a[i] + b[i]\n",
    "    return output\n",
    "\n",
    "print(cal_sum(a, b))\n"
   ]
  },
  {
   "cell_type": "code",
   "execution_count": 4,
   "metadata": {},
   "outputs": [
    {
     "name": "stdout",
     "output_type": "stream",
     "text": [
      "3.21 s ± 90.2 ms per loop (mean ± std. dev. of 7 runs, 1 loop each)\n"
     ]
    }
   ],
   "source": [
    "big_size = 10*1000*1000\n",
    "a = np.random.randint(0, 10, big_size)\n",
    "b = np.random.randint(0, 10, big_size)\n",
    "%timeit cal_sum(a, b)\n"
   ]
  },
  {
   "cell_type": "code",
   "execution_count": 5,
   "metadata": {},
   "outputs": [
    {
     "name": "stdout",
     "output_type": "stream",
     "text": [
      "19.1 ms ± 215 µs per loop (mean ± std. dev. of 7 runs, 10 loops each)\n"
     ]
    }
   ],
   "source": [
    "%timeit np.add(a, b)\n"
   ]
  },
  {
   "cell_type": "code",
   "execution_count": 11,
   "metadata": {},
   "outputs": [
    {
     "name": "stdout",
     "output_type": "stream",
     "text": [
      "[11 13  5 10]\n",
      "[11 13  5 10]\n",
      "[5 5 5 0]\n",
      "[24 36  0 25]\n"
     ]
    }
   ],
   "source": [
    "a = np.random.randint(0, 10, 4)\n",
    "b = np.random.randint(0, 10, 4)\n",
    "print(np.add(a, b)) # قالب قبلی\n",
    "print(a + b) # استفاده از عملگر معادل\n",
    "print(np.subtract(a, b))\n",
    "print(np.multiply(a, b))\n"
   ]
  },
  {
   "cell_type": "code",
   "execution_count": 15,
   "metadata": {},
   "outputs": [
    {
     "name": "stdout",
     "output_type": "stream",
     "text": [
      "[8 9 5 5]\n",
      "[1.73205081 2.         0.         2.23606798]\n",
      "[64 81 25 25]\n",
      "[False False False False]\n"
     ]
    }
   ],
   "source": [
    "print(np.abs(a))\n",
    "print(np.sqrt(b))\n",
    "print(np.square(a))\n",
    "print(np.isnan(b))\n"
   ]
  }
 ],
 "metadata": {
  "kernelspec": {
   "display_name": "qenv",
   "language": "python",
   "name": "python3"
  },
  "language_info": {
   "codemirror_mode": {
    "name": "ipython",
    "version": 3
   },
   "file_extension": ".py",
   "mimetype": "text/x-python",
   "name": "python",
   "nbconvert_exporter": "python",
   "pygments_lexer": "ipython3",
   "version": "3.9.12"
  }
 },
 "nbformat": 4,
 "nbformat_minor": 2
}
