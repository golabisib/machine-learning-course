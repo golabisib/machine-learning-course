{
 "cells": [
  {
   "attachments": {},
   "cell_type": "markdown",
   "metadata": {
    "id": "ddU9LZWUEiAd"
   },
   "source": [
    "<h1 align=center style=\"line-height:200%;font-family:vazir;color:#0099cc\">\n",
    "<font face=\"vazir\" color=\"#0099cc\">\n",
    "قشر کتاب‌خوان\n",
    "</font>\n",
    "</h1>\n",
    "\n",
    "<p dir=rtl style=\"direction: rtl;text-align: justify;line-height:200%;font-family:vazir;font-size:medium\">\n",
    "<font face=\"vazir\" size=3>\n",
    "در این تمرین برای کمک به قشر کتابخوان می‌خواهیم به تحلیل داده‌های سایت <i>goodreads</i> بپردازیم و اطلاعات جالب و کاربردی‌ای را از آن استخراج کنیم.\n",
    "</font>\n",
    "</p>"
   ]
  },
  {
   "attachments": {},
   "cell_type": "markdown",
   "metadata": {},
   "source": [
    "<h2 align=right style=\"line-height:200%;font-family:vazir;color:#0099cc\">\n",
    "<font face=\"vazir\" color=\"#0099cc\">\n",
    "مجموعه‌داده\n",
    "</font>\n",
    "</h2>\n",
    "\n",
    "<p dir=rtl style=\"direction: rtl;text-align: justify;line-height:200%;font-family:vazir;font-size:medium\">\n",
    "<font face=\"vazir\" size=3>\n",
    "اطلاعات کتاب‌ها در فایل <code>books_db.csv</code>،‌ نویسندگان در فایل <code>authors.csv</code>، ناشران در فایل <code>publisher.csv</code> و زبان‌ها در فایل <code>language.csv</code> قرار گرفته است. به‌کمک پانداز هرکدام از این فایل‌ها را خوانده و در متغیر متناظر آن ذخیره کنید.\n",
    "</font>\n",
    "</p>"
   ]
  },
  {
   "cell_type": "code",
   "execution_count": 7,
   "metadata": {},
   "outputs": [
    {
     "data": {
      "text/html": [
       "<div>\n",
       "<style scoped>\n",
       "    .dataframe tbody tr th:only-of-type {\n",
       "        vertical-align: middle;\n",
       "    }\n",
       "\n",
       "    .dataframe tbody tr th {\n",
       "        vertical-align: top;\n",
       "    }\n",
       "\n",
       "    .dataframe thead th {\n",
       "        text-align: right;\n",
       "    }\n",
       "</style>\n",
       "<table border=\"1\" class=\"dataframe\">\n",
       "  <thead>\n",
       "    <tr style=\"text-align: right;\">\n",
       "      <th></th>\n",
       "      <th>name</th>\n",
       "    </tr>\n",
       "  </thead>\n",
       "  <tbody>\n",
       "    <tr>\n",
       "      <th>0</th>\n",
       "      <td>J.K. Rowling</td>\n",
       "    </tr>\n",
       "  </tbody>\n",
       "</table>\n",
       "</div>"
      ],
      "text/plain": [
       "           name\n",
       "0  J.K. Rowling"
      ]
     },
     "execution_count": 7,
     "metadata": {},
     "output_type": "execute_result"
    }
   ],
   "source": [
    "import pandas as pd\n",
    "import numpy as np\n",
    "\n",
    "df = pd.read_csv('./books_db.csv')\n",
    "authors = pd.read_csv('./authors.csv')\n",
    "language = pd.read_csv('./language.csv')\n",
    "publisher = pd.read_csv('./publisher.csv')\n",
    "authors.head(1)\n"
   ]
  },
  {
   "attachments": {},
   "cell_type": "markdown",
   "metadata": {},
   "source": [
    "<h2 align=right style=\"line-height:200%;font-family:vazir;color:#0099cc\">\n",
    "<font face=\"vazir\" color=\"#0099cc\">\n",
    "قسمت اول\n",
    "</font>\n",
    "</h2>\n",
    "\n",
    "<p dir=rtl style=\"direction: rtl;text-align: justify;line-height:200%;font-family:vazir;font-size:medium\">\n",
    "<font face=\"vazir\" size=3>\n",
    "همان‌طور که مشاهده می‌کنید در مجموعه‌داده‌ی اصلی (کتاب‌ها)، مقادیر سه ستون <code>lang_id</code>، <code>author_id</code> و <code>publisher_id</code> تنها به‌صورت آیدی (<code>id</code>) هستند. این آیدی‌ها با شماره‌ی نمایه‌ها در سایر دیتافریم‌ها متناظر هستند. در این قسمت قصد داریم تا طبق این نمایه‌ها،‌ اطلاعات کامل‌شان را از دیتافریم مربوطه استخراج کرده و به دیتافریم <code>df</code> اضافه کنیم. بنابراین سه دیتافریم <code>authors</code>، <code>language</code> و <code>publisher</code> را به‌شکل مناسبی با دیتافریم <code>df</code> ادغام (<code>merge</code>) کنید.\n",
    "</font>\n",
    "</p>"
   ]
  },
  {
   "cell_type": "code",
   "execution_count": 14,
   "metadata": {},
   "outputs": [
    {
     "data": {
      "text/html": [
       "<div>\n",
       "<style scoped>\n",
       "    .dataframe tbody tr th:only-of-type {\n",
       "        vertical-align: middle;\n",
       "    }\n",
       "\n",
       "    .dataframe tbody tr th {\n",
       "        vertical-align: top;\n",
       "    }\n",
       "\n",
       "    .dataframe thead th {\n",
       "        text-align: right;\n",
       "    }\n",
       "</style>\n",
       "<table border=\"1\" class=\"dataframe\">\n",
       "  <thead>\n",
       "    <tr style=\"text-align: right;\">\n",
       "      <th></th>\n",
       "      <th>bookID</th>\n",
       "      <th>title</th>\n",
       "      <th>average_rating</th>\n",
       "      <th>isbn</th>\n",
       "      <th>isbn13</th>\n",
       "      <th>num_pages</th>\n",
       "      <th>ratings_count</th>\n",
       "      <th>text_reviews_count</th>\n",
       "      <th>publication_date</th>\n",
       "      <th>author_id</th>\n",
       "      <th>lang_id</th>\n",
       "      <th>publisher_id</th>\n",
       "    </tr>\n",
       "  </thead>\n",
       "  <tbody>\n",
       "    <tr>\n",
       "      <th>0</th>\n",
       "      <td>1</td>\n",
       "      <td>Harry Potter and the Half-Blood Prince (Harry ...</td>\n",
       "      <td>4.57</td>\n",
       "      <td>439785960</td>\n",
       "      <td>9.780440e+12</td>\n",
       "      <td>652</td>\n",
       "      <td>2095690</td>\n",
       "      <td>27591</td>\n",
       "      <td>9/16/2006</td>\n",
       "      <td>0</td>\n",
       "      <td>0</td>\n",
       "      <td>0</td>\n",
       "    </tr>\n",
       "  </tbody>\n",
       "</table>\n",
       "</div>"
      ],
      "text/plain": [
       "   bookID                                              title  average_rating  \\\n",
       "0       1  Harry Potter and the Half-Blood Prince (Harry ...            4.57   \n",
       "\n",
       "        isbn        isbn13  num_pages  ratings_count  text_reviews_count  \\\n",
       "0  439785960  9.780440e+12        652        2095690               27591   \n",
       "\n",
       "  publication_date  author_id  lang_id  publisher_id  \n",
       "0        9/16/2006          0        0             0  "
      ]
     },
     "execution_count": 14,
     "metadata": {},
     "output_type": "execute_result"
    }
   ],
   "source": [
    "pd.merge(df, authors,left_on=['author_id'], right_index=True)\n",
    "\n",
    "df.head(1)\n"
   ]
  },
  {
   "attachments": {},
   "cell_type": "markdown",
   "metadata": {},
   "source": [
    "<p dir=rtl style=\"direction: rtl;text-align: justify;line-height:200%;font-family:vazir;font-size:medium\">\n",
    "<font face=\"vazir\" size=3>\n",
    "حال که تمام مقادیر اضافه شده‌اند، نیازی به سه ستون <code>id</code> که به‌عنوان کلید استفاده کردیم نداریم. پس آن‌ها را با استفاده از دستور <code>drop</code> حذف می‌کنیم.\n",
    "        در درسنامه‌های بعدی نحوه‌ی کار با این دستور را یاد خواهید گرفت.    \n",
    "</font>\n",
    "</p>"
   ]
  },
  {
   "cell_type": "code",
   "execution_count": 3,
   "metadata": {},
   "outputs": [],
   "source": [
    "df.drop(columns = ['author_id', 'lang_id', 'publisher_id'], inplace = True)\n"
   ]
  },
  {
   "attachments": {},
   "cell_type": "markdown",
   "metadata": {},
   "source": [
    "<h2 align=right style=\"line-height:200%;font-family:vazir;color:#0099cc\">\n",
    "<font face=\"vazir\" color=\"#0099cc\">\n",
    "قسمت دوم\n",
    "</font>\n",
    "</h2>\n",
    "\n",
    "<p dir=rtl style=\"direction: rtl;text-align: justify;line-height:200%;font-family:vazir;font-size:medium\">\n",
    "<font face=\"vazir\" size=3>\n",
    "حال نام ستون‌های دیتافریم را به‌گونه‌ای تغییر دهید که به‌ترتیب از چپ به راست برابر نام‌های زیر باشد:\n",
    "<ul>\n",
    "<li><code>bookID</code></li>\n",
    "<li><code>title</code></li>\n",
    "<li><code>average_rating</code></li>\n",
    "<li><code>isbn</code></li>\n",
    "<li><code>isbn13</code></li>\n",
    "<li><code>num_pages</code></li>\n",
    "<li><code>ratings_count</code></li>\n",
    "<li><code>text_reviews_count</code></li>\n",
    "<li><code>publication_date</code></li>\n",
    "<li><code>author</code></li>\n",
    "<li><code>lang</code></li>\n",
    "<li><code>publisher</code></li>\n",
    "</font>\n",
    "</p>"
   ]
  },
  {
   "cell_type": "code",
   "execution_count": 4,
   "metadata": {},
   "outputs": [],
   "source": [
    "df.columns = [\n",
    "    'bookID',\n",
    "    'title',\n",
    "    'average_rating',\n",
    "    'isbn',\n",
    "    'isbn13',\n",
    "    'num_pages',\n",
    "    'ratings_count',\n",
    "    'text_reviews_count',\n",
    "    'publication_date',\n",
    "    'author',\n",
    "    'lang',\n",
    "    'publisher'\n",
    "]\n"
   ]
  },
  {
   "attachments": {},
   "cell_type": "markdown",
   "metadata": {},
   "source": [
    "<h2 align=right style=\"line-height:200%;font-family:vazir;color:#0099cc\">\n",
    "<font face=\"vazir\" color=\"#0099cc\">\n",
    "قسمت سوم\n",
    "</font>\n",
    "</h2>\n",
    "\n",
    "<p dir=rtl style=\"direction: rtl;text-align: justify;line-height:200%;font-family:vazir;font-size:medium\">\n",
    "<font face=\"vazir\" size=3>\n",
    "اکنون میانگین امتیاز کتاب‌های هر انتشاراتی را محاسبه کرده و حاصل را در متغیر <code>publisher_rating</code> ذخیره کنید.\n",
    "</font>\n",
    "</p>"
   ]
  },
  {
   "cell_type": "code",
   "execution_count": 5,
   "metadata": {},
   "outputs": [
    {
     "data": {
      "text/html": [
       "<div>\n",
       "<style scoped>\n",
       "    .dataframe tbody tr th:only-of-type {\n",
       "        vertical-align: middle;\n",
       "    }\n",
       "\n",
       "    .dataframe tbody tr th {\n",
       "        vertical-align: top;\n",
       "    }\n",
       "\n",
       "    .dataframe thead th {\n",
       "        text-align: right;\n",
       "    }\n",
       "</style>\n",
       "<table border=\"1\" class=\"dataframe\">\n",
       "  <thead>\n",
       "    <tr style=\"text-align: right;\">\n",
       "      <th></th>\n",
       "      <th>publisher</th>\n",
       "      <th>average_rating</th>\n",
       "    </tr>\n",
       "  </thead>\n",
       "  <tbody>\n",
       "    <tr>\n",
       "      <th>0</th>\n",
       "      <td>18-Oct</td>\n",
       "      <td>3.31</td>\n",
       "    </tr>\n",
       "    <tr>\n",
       "      <th>1</th>\n",
       "      <td>1st Book Library</td>\n",
       "      <td>4.22</td>\n",
       "    </tr>\n",
       "    <tr>\n",
       "      <th>2</th>\n",
       "      <td>1st World Library</td>\n",
       "      <td>3.71</td>\n",
       "    </tr>\n",
       "    <tr>\n",
       "      <th>3</th>\n",
       "      <td>A &amp; C Black (Childrens books)</td>\n",
       "      <td>3.91</td>\n",
       "    </tr>\n",
       "    <tr>\n",
       "      <th>4</th>\n",
       "      <td>A Harvest Book/Harcourt  Inc.</td>\n",
       "      <td>4.44</td>\n",
       "    </tr>\n",
       "    <tr>\n",
       "      <th>...</th>\n",
       "      <td>...</td>\n",
       "      <td>...</td>\n",
       "    </tr>\n",
       "    <tr>\n",
       "      <th>2285</th>\n",
       "      <td>聯經出版事業股份有限公司</td>\n",
       "      <td>3.79</td>\n",
       "    </tr>\n",
       "    <tr>\n",
       "      <th>2286</th>\n",
       "      <td>英文漢聲出版股份有限公司</td>\n",
       "      <td>4.01</td>\n",
       "    </tr>\n",
       "    <tr>\n",
       "      <th>2287</th>\n",
       "      <td>角川書店 (Kadokawa Shoten)</td>\n",
       "      <td>4.46</td>\n",
       "    </tr>\n",
       "    <tr>\n",
       "      <th>2288</th>\n",
       "      <td>講談社</td>\n",
       "      <td>3.96</td>\n",
       "    </tr>\n",
       "    <tr>\n",
       "      <th>2289</th>\n",
       "      <td>集英社</td>\n",
       "      <td>3.76</td>\n",
       "    </tr>\n",
       "  </tbody>\n",
       "</table>\n",
       "<p>2290 rows × 2 columns</p>\n",
       "</div>"
      ],
      "text/plain": [
       "                          publisher  average_rating\n",
       "0                            18-Oct            3.31\n",
       "1                  1st Book Library            4.22\n",
       "2                 1st World Library            3.71\n",
       "3     A & C Black (Childrens books)            3.91\n",
       "4     A Harvest Book/Harcourt  Inc.            4.44\n",
       "...                             ...             ...\n",
       "2285                   聯經出版事業股份有限公司            3.79\n",
       "2286                   英文漢聲出版股份有限公司            4.01\n",
       "2287         角川書店 (Kadokawa Shoten)            4.46\n",
       "2288                            講談社            3.96\n",
       "2289                            集英社            3.76\n",
       "\n",
       "[2290 rows x 2 columns]"
      ]
     },
     "execution_count": 5,
     "metadata": {},
     "output_type": "execute_result"
    }
   ],
   "source": [
    "publisher_rating = df.groupby('publisher')['average_rating'].mean().reset_index()\n",
    "publisher_rating\n"
   ]
  },
  {
   "attachments": {},
   "cell_type": "markdown",
   "metadata": {},
   "source": [
    "<h2 align=right style=\"line-height:200%;font-family:vazir;color:#0099cc\">\n",
    "<font face=\"vazir\" color=\"#0099cc\">\n",
    "قسمت چهارم\n",
    "</font>\n",
    "</h2>\n",
    "\n",
    "<p dir=rtl style=\"direction: rtl;text-align: justify;line-height:200%;font-family:vazir;font-size:medium\">\n",
    "<font face=\"vazir\" size=3>\n",
    "در این قسمت ابتدا ستونی با نام <code>num_pages_grp</code> به دیتافریم اضافه کنید که در آن تعداد صفحات کتاب را به‌صورت بازه‌های زیر نشان دهد:\n",
    "</font>\n",
    "</p>\n",
    "\n",
    "<center>\n",
    "<div dir=rtl style=\"direction: rtl;line-height:200%;font-family:vazir;font-size:medium\">\n",
    "<font face=\"vazir\" size=3>\n",
    "\n",
    "| <b>مقدار</b> | <b>توضیح</b> |\n",
    "| :---: | :---: | \n",
    "| <code dir=ltr><250</code> | کمتر از ۲۵۰ صفحه |\n",
    "| <code dir=ltr>250-499</code> | از ۲۵۰ تا ۴۹۹ صفحه |\n",
    "| <code dir=ltr>500-749</code> | از ۵۰۰ تا ۷۴۹ صفحه |\n",
    "| <code dir=ltr>750-999</code> | از ۷۵۰ تا ۹۹۹ صفحه |\n",
    "| <code dir=ltr>>=1000</code> | بیشتر یا مساوی ۱۰۰۰ صفحه |\n",
    "\n",
    "</font>\n",
    "</div>\n",
    "</center>\n",
    "\n",
    "\n",
    "<p dir=rtl style=\"direction: rtl;text-align: justify;line-height:200%;font-family:vazir;font-size:medium\">\n",
    "<font face=\"vazir\" size=3>\n",
    "<span style=\"color:green\"><b>راهنمایی :</b></span>\n",
    " برای این کار می‌توانید از تابع <code>np.select</code> استفاده کنید. \n",
    "</font>\n",
    "</p>\n"
   ]
  },
  {
   "cell_type": "code",
   "execution_count": 6,
   "metadata": {},
   "outputs": [],
   "source": [
    "bins = [-1, 250, 499, 749, 999, float('inf')]\n",
    "labels = ['<250', '250-499', '500-749', '750-999', '>=1000']\n",
    "\n",
    "df['num_pages_grp'] = pd.cut(df['num_pages'], bins=bins, labels=labels)\n"
   ]
  },
  {
   "attachments": {},
   "cell_type": "markdown",
   "metadata": {},
   "source": [
    "\n",
    "<p dir=rtl style=\"direction: rtl;text-align: justify;line-height:200%;font-family:vazir;font-size:medium\">\n",
    "<font face=\"vazir\" size=3>\n",
    "حال می‌خواهیم بدانیم هر نویسنده چند کتاب در هرکدام از این بازه‌ها نوشته است. یعنی حاصل باید چیزی شبیه به جدول زیر باشد:\n",
    "\n",
    "</font>\n",
    "</p>"
   ]
  },
  {
   "cell_type": "raw",
   "metadata": {
    "vscode": {
     "languageId": "raw"
    }
   },
   "source": [
    "A.B. Yehoshua          250-499          1\n",
    "                       500-749          1\n",
    "A.D.P. Briggs          250-499          1\n",
    "A.E. Cunningham        <250             1\n",
    "A.J. Jacobs            250-499          1\n"
   ]
  },
  {
   "cell_type": "code",
   "execution_count": 7,
   "metadata": {},
   "outputs": [
    {
     "name": "stderr",
     "output_type": "stream",
     "text": [
      "C:\\Users\\ROOZBEH\\AppData\\Local\\Temp\\ipykernel_12100\\998136338.py:1: FutureWarning: The default of observed=False is deprecated and will be changed to True in a future version of pandas. Pass observed=False to retain current behavior or observed=True to adopt the future default and silence this warning.\n",
      "  author_page = df.groupby(['author', 'num_pages_grp']).size().reset_index(name='count')\n"
     ]
    },
    {
     "data": {
      "text/html": [
       "<div>\n",
       "<style scoped>\n",
       "    .dataframe tbody tr th:only-of-type {\n",
       "        vertical-align: middle;\n",
       "    }\n",
       "\n",
       "    .dataframe tbody tr th {\n",
       "        vertical-align: top;\n",
       "    }\n",
       "\n",
       "    .dataframe thead th {\n",
       "        text-align: right;\n",
       "    }\n",
       "</style>\n",
       "<table border=\"1\" class=\"dataframe\">\n",
       "  <thead>\n",
       "    <tr style=\"text-align: right;\">\n",
       "      <th></th>\n",
       "      <th>author</th>\n",
       "      <th>num_pages_grp</th>\n",
       "      <th>count</th>\n",
       "    </tr>\n",
       "  </thead>\n",
       "  <tbody>\n",
       "    <tr>\n",
       "      <th>0</th>\n",
       "      <td>A.B. Yehoshua</td>\n",
       "      <td>&lt;250</td>\n",
       "      <td>0</td>\n",
       "    </tr>\n",
       "    <tr>\n",
       "      <th>1</th>\n",
       "      <td>A.B. Yehoshua</td>\n",
       "      <td>250-499</td>\n",
       "      <td>1</td>\n",
       "    </tr>\n",
       "    <tr>\n",
       "      <th>2</th>\n",
       "      <td>A.B. Yehoshua</td>\n",
       "      <td>500-749</td>\n",
       "      <td>0</td>\n",
       "    </tr>\n",
       "    <tr>\n",
       "      <th>3</th>\n",
       "      <td>A.B. Yehoshua</td>\n",
       "      <td>750-999</td>\n",
       "      <td>0</td>\n",
       "    </tr>\n",
       "    <tr>\n",
       "      <th>4</th>\n",
       "      <td>A.B. Yehoshua</td>\n",
       "      <td>&gt;=1000</td>\n",
       "      <td>0</td>\n",
       "    </tr>\n",
       "    <tr>\n",
       "      <th>...</th>\n",
       "      <td>...</td>\n",
       "      <td>...</td>\n",
       "      <td>...</td>\n",
       "    </tr>\n",
       "    <tr>\n",
       "      <th>21075</th>\n",
       "      <td>Éric-Emmanuel Schmitt</td>\n",
       "      <td>&lt;250</td>\n",
       "      <td>0</td>\n",
       "    </tr>\n",
       "    <tr>\n",
       "      <th>21076</th>\n",
       "      <td>Éric-Emmanuel Schmitt</td>\n",
       "      <td>250-499</td>\n",
       "      <td>1</td>\n",
       "    </tr>\n",
       "    <tr>\n",
       "      <th>21077</th>\n",
       "      <td>Éric-Emmanuel Schmitt</td>\n",
       "      <td>500-749</td>\n",
       "      <td>0</td>\n",
       "    </tr>\n",
       "    <tr>\n",
       "      <th>21078</th>\n",
       "      <td>Éric-Emmanuel Schmitt</td>\n",
       "      <td>750-999</td>\n",
       "      <td>0</td>\n",
       "    </tr>\n",
       "    <tr>\n",
       "      <th>21079</th>\n",
       "      <td>Éric-Emmanuel Schmitt</td>\n",
       "      <td>&gt;=1000</td>\n",
       "      <td>0</td>\n",
       "    </tr>\n",
       "  </tbody>\n",
       "</table>\n",
       "<p>21080 rows × 3 columns</p>\n",
       "</div>"
      ],
      "text/plain": [
       "                      author num_pages_grp  count\n",
       "0              A.B. Yehoshua          <250      0\n",
       "1              A.B. Yehoshua       250-499      1\n",
       "2              A.B. Yehoshua       500-749      0\n",
       "3              A.B. Yehoshua       750-999      0\n",
       "4              A.B. Yehoshua        >=1000      0\n",
       "...                      ...           ...    ...\n",
       "21075  Éric-Emmanuel Schmitt          <250      0\n",
       "21076  Éric-Emmanuel Schmitt       250-499      1\n",
       "21077  Éric-Emmanuel Schmitt       500-749      0\n",
       "21078  Éric-Emmanuel Schmitt       750-999      0\n",
       "21079  Éric-Emmanuel Schmitt        >=1000      0\n",
       "\n",
       "[21080 rows x 3 columns]"
      ]
     },
     "execution_count": 7,
     "metadata": {},
     "output_type": "execute_result"
    }
   ],
   "source": [
    "author_page = df.groupby(['author', 'num_pages_grp']).size().reset_index(name='count')\n",
    "author_page\n"
   ]
  },
  {
   "attachments": {},
   "cell_type": "markdown",
   "metadata": {},
   "source": [
    "<h2 align=right style=\"line-height:200%;font-family:vazir;color:#0099cc\">\n",
    "<font face=\"vazir\" color=\"#0099cc\">\n",
    "<b>سلول جواب‌ساز</b>\n",
    "</font>\n",
    "</h2>\n",
    "\n",
    "\n",
    "<p dir=rtl style=\"direction: rtl; text-align: justify; line-height:200%; font-family:vazir; font-size:medium\">\n",
    "<font face=\"vazir\" size=3>\n",
    "    برای ساخته‌شدن فایل <code>result.zip</code> سلول زیر را اجرا کنید. توجه داشته باشید که پیش از اجرای سلول زیر تغییرات اعمال شده در نت‌بوک را ذخیره کرده باشید (<code>ctrl+s</code>) تا در صورت نیاز به پشتیبانی امکان بررسی کد شما وجود داشته باشد.\n",
    "</font>\n",
    "</p>"
   ]
  },
  {
   "cell_type": "code",
   "execution_count": 8,
   "metadata": {},
   "outputs": [
    {
     "name": "stdout",
     "output_type": "stream",
     "text": [
      "File Paths:\n",
      "['books_result.csv', 'publisher_rating.csv', 'author_page.csv', 'book_readers.ipynb']\n"
     ]
    }
   ],
   "source": [
    "import zlib\n",
    "import zipfile\n",
    "\n",
    "df.to_csv('books_result.csv', index=False)\n",
    "publisher_rating.to_csv('publisher_rating.csv', index=True)\n",
    "author_page.to_csv(\"author_page.csv\", index=True)\n",
    "\n",
    "def compress(file_names):\n",
    "    print(\"File Paths:\")\n",
    "    print(file_names)\n",
    "    compression = zipfile.ZIP_DEFLATED\n",
    "    with zipfile.ZipFile(\"result.zip\", mode=\"w\") as zf:\n",
    "        for file_name in file_names:\n",
    "            zf.write('./' + file_name, file_name, compress_type=compression)\n",
    "\n",
    "file_names = [\"books_result.csv\", \"publisher_rating.csv\", \"author_page.csv\", \"book_readers.ipynb\"]\n",
    "compress(file_names)\n"
   ]
  },
  {
   "cell_type": "markdown",
   "metadata": {
    "id": "YWBTRJvqdG_u"
   },
   "source": [
    "\n",
    "<br />\n",
    "<div dir=rtl id=\"start\" style=\"direction:rtl;line-height:200%;\">\n",
    "\t<font face=\"vazir\" size\n",
    "        سلاموری ارسال کنید.\n",
    "  </p>\n",
    "</div>"
   ]
  }
 ],
 "metadata": {
  "colab": {
   "collapsed_sections": [],
   "name": "exercise1.ipynb",
   "provenance": []
  },
  "kernelspec": {
   "display_name": "qenv",
   "language": "python",
   "name": "python3"
  },
  "language_info": {
   "codemirror_mode": {
    "name": "ipython",
    "version": 3
   },
   "file_extension": ".py",
   "mimetype": "text/x-python",
   "name": "python",
   "nbconvert_exporter": "python",
   "pygments_lexer": "ipython3",
   "version": "3.9.12"
  }
 },
 "nbformat": 4,
 "nbformat_minor": 4
}
