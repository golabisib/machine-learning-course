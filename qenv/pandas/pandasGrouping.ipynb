{
 "cells": [
  {
   "cell_type": "markdown",
   "metadata": {},
   "source": [
    "<p> تا به این‌جای فصل با توابع مختلف پانداز برای تحلیل‌های مختلف آشنا شدیم، اما به‌طور معمول، برای انجام تحلیل‌های دقیق‌تر، نیاز به اطلاعاتی از دسته‌های مختلف داده‌ها داریم. برای مثال بار دیگر دیتافریم نمایشگاه ماشین‌ها را در نظر بگیرید:</p>"
   ]
  },
  {
   "cell_type": "code",
   "execution_count": 1,
   "metadata": {},
   "outputs": [
    {
     "data": {
      "text/html": [
       "<div>\n",
       "<style scoped>\n",
       "    .dataframe tbody tr th:only-of-type {\n",
       "        vertical-align: middle;\n",
       "    }\n",
       "\n",
       "    .dataframe tbody tr th {\n",
       "        vertical-align: top;\n",
       "    }\n",
       "\n",
       "    .dataframe thead th {\n",
       "        text-align: right;\n",
       "    }\n",
       "</style>\n",
       "<table border=\"1\" class=\"dataframe\">\n",
       "  <thead>\n",
       "    <tr style=\"text-align: right;\">\n",
       "      <th></th>\n",
       "      <th>model</th>\n",
       "      <th>Color</th>\n",
       "      <th>Weight (KG)</th>\n",
       "      <th>year</th>\n",
       "      <th>price</th>\n",
       "    </tr>\n",
       "  </thead>\n",
       "  <tbody>\n",
       "    <tr>\n",
       "      <th>0</th>\n",
       "      <td>Peykan</td>\n",
       "      <td>Red</td>\n",
       "      <td>990</td>\n",
       "      <td>1346</td>\n",
       "      <td>25</td>\n",
       "    </tr>\n",
       "    <tr>\n",
       "      <th>1</th>\n",
       "      <td>Peykan</td>\n",
       "      <td>White</td>\n",
       "      <td>1000</td>\n",
       "      <td>1357</td>\n",
       "      <td>30</td>\n",
       "    </tr>\n",
       "    <tr>\n",
       "      <th>2</th>\n",
       "      <td>Peykan</td>\n",
       "      <td>Olive</td>\n",
       "      <td>990</td>\n",
       "      <td>1388</td>\n",
       "      <td>48</td>\n",
       "    </tr>\n",
       "    <tr>\n",
       "      <th>3</th>\n",
       "      <td>BMW X6</td>\n",
       "      <td>Black</td>\n",
       "      <td>2320</td>\n",
       "      <td>1391</td>\n",
       "      <td>2200</td>\n",
       "    </tr>\n",
       "    <tr>\n",
       "      <th>4</th>\n",
       "      <td>BMW X6</td>\n",
       "      <td>Ametrine</td>\n",
       "      <td>2320</td>\n",
       "      <td>1393</td>\n",
       "      <td>4800</td>\n",
       "    </tr>\n",
       "    <tr>\n",
       "      <th>5</th>\n",
       "      <td>BMW X6</td>\n",
       "      <td>navy</td>\n",
       "      <td>2220</td>\n",
       "      <td>1393</td>\n",
       "      <td>4800</td>\n",
       "    </tr>\n",
       "    <tr>\n",
       "      <th>6</th>\n",
       "      <td>Nissan Junior</td>\n",
       "      <td>Blue</td>\n",
       "      <td>1540</td>\n",
       "      <td>1375</td>\n",
       "      <td>105</td>\n",
       "    </tr>\n",
       "    <tr>\n",
       "      <th>7</th>\n",
       "      <td>Nissan Junior</td>\n",
       "      <td>White</td>\n",
       "      <td>1540</td>\n",
       "      <td>1383</td>\n",
       "      <td>105</td>\n",
       "    </tr>\n",
       "    <tr>\n",
       "      <th>8</th>\n",
       "      <td>Nissan Junior</td>\n",
       "      <td>Blue</td>\n",
       "      <td>1600</td>\n",
       "      <td>1375</td>\n",
       "      <td>130</td>\n",
       "    </tr>\n",
       "    <tr>\n",
       "      <th>9</th>\n",
       "      <td>Nissan Junior</td>\n",
       "      <td>Red</td>\n",
       "      <td>1540</td>\n",
       "      <td>1389</td>\n",
       "      <td>145</td>\n",
       "    </tr>\n",
       "  </tbody>\n",
       "</table>\n",
       "</div>"
      ],
      "text/plain": [
       "           model     Color  Weight (KG)  year  price\n",
       "0         Peykan       Red          990  1346     25\n",
       "1         Peykan     White         1000  1357     30\n",
       "2         Peykan     Olive          990  1388     48\n",
       "3         BMW X6     Black         2320  1391   2200\n",
       "4         BMW X6  Ametrine         2320  1393   4800\n",
       "5         BMW X6      navy         2220  1393   4800\n",
       "6  Nissan Junior      Blue         1540  1375    105\n",
       "7  Nissan Junior     White         1540  1383    105\n",
       "8  Nissan Junior      Blue         1600  1375    130\n",
       "9  Nissan Junior       Red         1540  1389    145"
      ]
     },
     "execution_count": 1,
     "metadata": {},
     "output_type": "execute_result"
    }
   ],
   "source": [
    "import pandas as pd\n",
    "import numpy as np\n",
    "cars_dictionary = {\n",
    "    \"model\" :[\"Peykan\", \"Peykan\", \"Peykan\", \"BMW X6\", \"BMW X6\", \"BMW X6\", \"Nissan Junior\", \"Nissan Junior\", \"Nissan Junior\", \"Nissan Junior\"],\n",
    "    \"Color\" :[\"Red\", \"White\", \"Olive\",  \"Black\", \"Ametrine\", \"navy\", \"Blue\", \"White\", \"Blue\", \"Red\"],\n",
    "    \"Weight (KG)\" :[990, 1000, 990, 2320, 2320, 2220, 1540, 1540, 1600, 1540],\n",
    "    \"year\" :[1346, 1357, 1388, 1391, 1393, 1393, 1375, 1383, 1375, 1389],\n",
    "    \"price\" :[25, 30, 48, 2200, 4800, 4800, 105, 105, 130, 145]\n",
    "}\n",
    "\n",
    "cars_df = pd.DataFrame(cars_dictionary)\n",
    "cars_df\n"
   ]
  },
  {
   "cell_type": "markdown",
   "metadata": {},
   "source": [
    "<p>فرض کنید می‌خواهیم میانگین قیمت هر مدل ماشین را محاسبه کنیم. برای این کار چه می‌کنید؟</p>"
   ]
  },
  {
   "cell_type": "markdown",
   "metadata": {},
   "source": [
    "<p>با آن که راه‌حلی که در بالا معرفی کردیم پاسخگو است اما وقتی به تحلیل‌های بیشتر و مرتب‌تری احتیاج داشته باشیم، این روش زمان‌گیر و پیچیده است. برای انجام ساده‌ی این عملیات، پانداز تابع groupby را معرفی کرده است. با این تابع، می‌توانیم داده‌ها را بر اساس کلیدهای مختلف گروه‌بندی کرده، و نتایجی را بر اساس هر گروه به‌دست آوریم. برای شروع به کارکرد این تابع دقت کنید:</p>"
   ]
  },
  {
   "cell_type": "code",
   "execution_count": 2,
   "metadata": {},
   "outputs": [
    {
     "data": {
      "text/plain": [
       "pandas.core.groupby.generic.DataFrameGroupBy"
      ]
     },
     "execution_count": 2,
     "metadata": {},
     "output_type": "execute_result"
    }
   ],
   "source": [
    "grouped = cars_df.groupby('model')\n",
    "type(grouped)\n"
   ]
  },
  {
   "cell_type": "markdown",
   "metadata": {},
   "source": [
    "<p>در خط اول این کد، ستون ‍model دیتافریم، به عنوان کلید گروه‌بندی در نظر گرفته شده و ماشین‌هایی که مدل مشابهی دارند در یک دسته قرار می‌گیرند.\n",
    "\n",
    "با بررسی type خروجی این تابع، به داده‌ساختار DataFrameGroupBy می‌رسیم که برای نگه‌داری اطلاعات گروه‌بندی شده‌ی دیتافریم‌ها به کار می‌رود.\n",
    "متد‌ها و ویژگی‌های ساختار گروه‌بندی\n",
    "\n",
    "همان‌طور که گفتیم، با اجرای کد cars_df.groupby('model')، داده‌ها بر اساس مدل گروه‌بندی می‌شوند؛ حال با ویژگی ngroups، می‌توانیم تعداد گروه‌های موجود در این داده‌ساختار را به‌دست آوریم.</p>\n"
   ]
  },
  {
   "cell_type": "code",
   "execution_count": 3,
   "metadata": {},
   "outputs": [
    {
     "data": {
      "text/plain": [
       "3"
      ]
     },
     "execution_count": 3,
     "metadata": {},
     "output_type": "execute_result"
    }
   ],
   "source": [
    "grouped.ngroups\n"
   ]
  },
  {
   "cell_type": "markdown",
   "metadata": {},
   "source": [
    "<p>سلول بالا، عدد ۳ را خروجی داده که به معنای سه گروه با مدل‌های BMW X6، Nissan Junior و Peykan است که در دیتافریم اولیه وجود داشتند.\n",
    "\n",
    "در صورتی‌که بخواهیم از نام گروه‌ها و اعضای آن‌ها مطلع شویم می‌توانیم از ویژگی groups استفاده کنیم.</p>"
   ]
  },
  {
   "cell_type": "code",
   "execution_count": 4,
   "metadata": {},
   "outputs": [
    {
     "data": {
      "text/plain": [
       "{'BMW X6': [3, 4, 5], 'Nissan Junior': [6, 7, 8, 9], 'Peykan': [0, 1, 2]}"
      ]
     },
     "execution_count": 4,
     "metadata": {},
     "output_type": "execute_result"
    }
   ],
   "source": [
    "grouped.groups\n"
   ]
  },
  {
   "cell_type": "markdown",
   "metadata": {},
   "source": [
    "<p>در خروجی سلول بالا، می‌بینید که نام هر مدل به عنوان کلید، و نمایه‌ی سطرهای مربوط به آن گروه روبروی آن‌ها ذکر شده است.\n",
    "\n",
    "لطفاً دقت کنید که در این حالت دیتافریم بسیار ساده است و در دنیای واقعی معمولاً تعداد سطرها بسیار بیشتر از این تعداد است؛ بنابراین معمولاً به جای دریافت شماره‌ی نمایه‌ی اعضای هر گروه، از تعداد عناصر آن‌ها برای تحلیل استفاده می‌کنند. به منظور به‌دست آوردن تعداد اعضای هر گروه، از متد size() استفاده می‌کنیم.</p>"
   ]
  },
  {
   "cell_type": "code",
   "execution_count": 5,
   "metadata": {},
   "outputs": [
    {
     "data": {
      "text/plain": [
       "model\n",
       "BMW X6           3\n",
       "Nissan Junior    4\n",
       "Peykan           3\n",
       "dtype: int64"
      ]
     },
     "execution_count": 5,
     "metadata": {},
     "output_type": "execute_result"
    }
   ],
   "source": [
    "grouped.size()\n"
   ]
  },
  {
   "cell_type": "markdown",
   "metadata": {},
   "source": [
    "<p>خروجی سلول بالا به معنی وجود سه ماشین BMW X6، چهار ماشین Nissan Junior و سه ماشین Peykan در دیتافریم نمایشگاه است؛ که این دیتافریم بر اساس مدل در متغیر grouped گروه‌بندی شده است.\n",
    "اعمال توابع روی گروه‌ها\n",
    "\n",
    "به‌طور کلی توابعی که می‌توان براساس گروه‌بندی اعمال کرد، به سه دسته‌ی زیر تقسیم می‌شوند:\n",
    "\n",
    "    تجمیع (Aggregation): این توابع، برای تمامی اعضای هر گروه، تنها یک مقدار را به‌دست آورده و به کلید آن نسبت می‌دهند. مانند میانگین، مجموع و غیره.\n",
    "\n",
    "    تبدیل (Transform): این توابع، تغییراتی را با توجه به دیگر داده‌های دسته روی هر داده اعمال می‌کنند. مانند نرمال‌سازی درون دسته‌ای.\n",
    "\n",
    "    فیلتر (Filter): حذف برخی داده‌ها با توجه به اطلاعات دیگر اعضای گروه. مثلاً حذف داده‌هایی که مقداری کمتر از میانگین دارند.\n",
    "\n",
    "توجه: در این درسنامه، به معرفی عملیات تجمیع می‌پردازیم و دو عملیات دیگر را در درسنامه‌ی بعدی خواهیم دید.\n",
    "تجمیع\n",
    "\n",
    "به‌طور کلی، این توابع در سه مرحله‌ی تقسیم، اعمال و ترکیب (Split-Apply-Combine) انجام می‌شوند:\n",
    "\n",
    "    ابتدا با استفاده از تابع groupby، دیتافریم اولیه با توجه به کلید، تقسیم و دسته‌بندی می‌شود.\n",
    "\n",
    "    سپس تابعی از نوع تجمیع روی هر گروه اعمال می‌شود تا برای هر گروه مقدار ثابتی را تولید کند.\n",
    "\n",
    "    مقادیر خروجی گروه‌ها با هم ترکیب شده و دیتافریم جدیدی که نمایه‌های آن، مقادیر کلید گروه‌بندی هستند، تولید می‌شود.\n",
    "\n",
    "برای اعمال توابع تجمیع، کافی است از متد agg() استفاده کنیم و تابع مورد نظر را به عنوان ورودی این متد بدهیم:</p>"
   ]
  },
  {
   "cell_type": "code",
   "execution_count": 6,
   "metadata": {},
   "outputs": [
    {
     "data": {
      "text/html": [
       "<div>\n",
       "<style scoped>\n",
       "    .dataframe tbody tr th:only-of-type {\n",
       "        vertical-align: middle;\n",
       "    }\n",
       "\n",
       "    .dataframe tbody tr th {\n",
       "        vertical-align: top;\n",
       "    }\n",
       "\n",
       "    .dataframe thead th {\n",
       "        text-align: right;\n",
       "    }\n",
       "</style>\n",
       "<table border=\"1\" class=\"dataframe\">\n",
       "  <thead>\n",
       "    <tr style=\"text-align: right;\">\n",
       "      <th></th>\n",
       "      <th>price</th>\n",
       "      <th>Weight (KG)</th>\n",
       "    </tr>\n",
       "    <tr>\n",
       "      <th>model</th>\n",
       "      <th></th>\n",
       "      <th></th>\n",
       "    </tr>\n",
       "  </thead>\n",
       "  <tbody>\n",
       "    <tr>\n",
       "      <th>BMW X6</th>\n",
       "      <td>3933.333333</td>\n",
       "      <td>2286.666667</td>\n",
       "    </tr>\n",
       "    <tr>\n",
       "      <th>Nissan Junior</th>\n",
       "      <td>121.250000</td>\n",
       "      <td>1555.000000</td>\n",
       "    </tr>\n",
       "    <tr>\n",
       "      <th>Peykan</th>\n",
       "      <td>34.333333</td>\n",
       "      <td>993.333333</td>\n",
       "    </tr>\n",
       "  </tbody>\n",
       "</table>\n",
       "</div>"
      ],
      "text/plain": [
       "                     price  Weight (KG)\n",
       "model                                  \n",
       "BMW X6         3933.333333  2286.666667\n",
       "Nissan Junior   121.250000  1555.000000\n",
       "Peykan           34.333333   993.333333"
      ]
     },
     "execution_count": 6,
     "metadata": {},
     "output_type": "execute_result"
    }
   ],
   "source": [
    "grouped[['price','Weight (KG)']].agg('mean')\n"
   ]
  },
  {
   "cell_type": "markdown",
   "metadata": {},
   "source": [
    "<p>همان‌طور که در سلول پیش دیدیم، با نوشتن نام تابع عملیات تجمیع به راحتی انجام شد؛ در حالت‌هایی که این توابع از قبل در پانداز موجود هستند (مانند حالت قبل)، می‌توانیم به‌صورت مستقیم نیز این توابع را اعمال کنیم:</p>"
   ]
  },
  {
   "cell_type": "code",
   "execution_count": 7,
   "metadata": {},
   "outputs": [
    {
     "data": {
      "text/html": [
       "<div>\n",
       "<style scoped>\n",
       "    .dataframe tbody tr th:only-of-type {\n",
       "        vertical-align: middle;\n",
       "    }\n",
       "\n",
       "    .dataframe tbody tr th {\n",
       "        vertical-align: top;\n",
       "    }\n",
       "\n",
       "    .dataframe thead th {\n",
       "        text-align: right;\n",
       "    }\n",
       "</style>\n",
       "<table border=\"1\" class=\"dataframe\">\n",
       "  <thead>\n",
       "    <tr style=\"text-align: right;\">\n",
       "      <th></th>\n",
       "      <th>price</th>\n",
       "      <th>Weight (KG)</th>\n",
       "    </tr>\n",
       "    <tr>\n",
       "      <th>model</th>\n",
       "      <th></th>\n",
       "      <th></th>\n",
       "    </tr>\n",
       "  </thead>\n",
       "  <tbody>\n",
       "    <tr>\n",
       "      <th>BMW X6</th>\n",
       "      <td>3933.333333</td>\n",
       "      <td>2286.666667</td>\n",
       "    </tr>\n",
       "    <tr>\n",
       "      <th>Nissan Junior</th>\n",
       "      <td>121.250000</td>\n",
       "      <td>1555.000000</td>\n",
       "    </tr>\n",
       "    <tr>\n",
       "      <th>Peykan</th>\n",
       "      <td>34.333333</td>\n",
       "      <td>993.333333</td>\n",
       "    </tr>\n",
       "  </tbody>\n",
       "</table>\n",
       "</div>"
      ],
      "text/plain": [
       "                     price  Weight (KG)\n",
       "model                                  \n",
       "BMW X6         3933.333333  2286.666667\n",
       "Nissan Junior   121.250000  1555.000000\n",
       "Peykan           34.333333   993.333333"
      ]
     },
     "execution_count": 7,
     "metadata": {},
     "output_type": "execute_result"
    }
   ],
   "source": [
    "grouped[['price','Weight (KG)']].mean()\n"
   ]
  },
  {
   "cell_type": "markdown",
   "metadata": {},
   "source": [
    "<p>با آن‌که خود پانداز، توابع مختلفی برای انجام محاسبات به‌صورت تجمیع را در اختیار ما می‌گذارد، اما باز هم گاهی لازم است تا توابع پیچیده‌تری را خودمان نوشته و استفاده کنیم. به داستان نمایشگاه ماشین برگردیم، همان‌طور که می‌بینید، محدوده‌ی قیمت‌ها و وزن‌های ماشین‌هایی که حتی از یک مدل هستند متفاوت است؛ برای دیدن تغییرات بازار و تفاوت ورژن‌های مختلف ماشین‌ها تابع peak_to_peak() را می‌نویسیم تا تفاوت بالاترین مقدار با پایین‌ترین مقدار را به ما بدهد.</p>"
   ]
  },
  {
   "cell_type": "code",
   "execution_count": 8,
   "metadata": {},
   "outputs": [
    {
     "data": {
      "text/html": [
       "<div>\n",
       "<style scoped>\n",
       "    .dataframe tbody tr th:only-of-type {\n",
       "        vertical-align: middle;\n",
       "    }\n",
       "\n",
       "    .dataframe tbody tr th {\n",
       "        vertical-align: top;\n",
       "    }\n",
       "\n",
       "    .dataframe thead th {\n",
       "        text-align: right;\n",
       "    }\n",
       "</style>\n",
       "<table border=\"1\" class=\"dataframe\">\n",
       "  <thead>\n",
       "    <tr style=\"text-align: right;\">\n",
       "      <th></th>\n",
       "      <th>price</th>\n",
       "      <th>Weight (KG)</th>\n",
       "    </tr>\n",
       "    <tr>\n",
       "      <th>model</th>\n",
       "      <th></th>\n",
       "      <th></th>\n",
       "    </tr>\n",
       "  </thead>\n",
       "  <tbody>\n",
       "    <tr>\n",
       "      <th>BMW X6</th>\n",
       "      <td>2600</td>\n",
       "      <td>100</td>\n",
       "    </tr>\n",
       "    <tr>\n",
       "      <th>Nissan Junior</th>\n",
       "      <td>40</td>\n",
       "      <td>60</td>\n",
       "    </tr>\n",
       "    <tr>\n",
       "      <th>Peykan</th>\n",
       "      <td>23</td>\n",
       "      <td>10</td>\n",
       "    </tr>\n",
       "  </tbody>\n",
       "</table>\n",
       "</div>"
      ],
      "text/plain": [
       "               price  Weight (KG)\n",
       "model                            \n",
       "BMW X6          2600          100\n",
       "Nissan Junior     40           60\n",
       "Peykan            23           10"
      ]
     },
     "execution_count": 8,
     "metadata": {},
     "output_type": "execute_result"
    }
   ],
   "source": [
    " def peak_to_peak(arr):\n",
    "     return arr.max() - arr.min()\n",
    "\n",
    "grouped[['price','Weight (KG)']].agg( peak_to_peak )\n"
   ]
  },
  {
   "cell_type": "markdown",
   "metadata": {},
   "source": [
    "<p>\n",
    "می‌بینید که در این حالت، برای استفاده از تابعی که خودمان نوشته‌ایم به‌صورت تجمیعی، کافی‌ست تا نام تابع را به عنوان ورودی به متد agg بدهیم. دقت کنید که در اینجا، برعکس حالت‌های قبل، نام تابع به‌صورت رشته (string) ارسال نمی‌شود.\n",
    "\n",
    "تمام حالت‌هایی که تاکنون بررسی کردیم، تنها یک تابع را به متد agg ارسال می‌کردند؛ حال فرض کنید می‌خواهیم برای هر مدل ماشین، تعداد ماشین‌های موجود را شمرده و میانگین، میانه و فاصله‌ی تغییرات قیمت را محاسبه کنیم:</p>"
   ]
  },
  {
   "cell_type": "code",
   "execution_count": 9,
   "metadata": {},
   "outputs": [
    {
     "data": {
      "text/html": [
       "<div>\n",
       "<style scoped>\n",
       "    .dataframe tbody tr th:only-of-type {\n",
       "        vertical-align: middle;\n",
       "    }\n",
       "\n",
       "    .dataframe tbody tr th {\n",
       "        vertical-align: top;\n",
       "    }\n",
       "\n",
       "    .dataframe thead th {\n",
       "        text-align: right;\n",
       "    }\n",
       "</style>\n",
       "<table border=\"1\" class=\"dataframe\">\n",
       "  <thead>\n",
       "    <tr style=\"text-align: right;\">\n",
       "      <th></th>\n",
       "      <th>count</th>\n",
       "      <th>peak_to_peak</th>\n",
       "      <th>median</th>\n",
       "      <th>mean</th>\n",
       "    </tr>\n",
       "    <tr>\n",
       "      <th>model</th>\n",
       "      <th></th>\n",
       "      <th></th>\n",
       "      <th></th>\n",
       "      <th></th>\n",
       "    </tr>\n",
       "  </thead>\n",
       "  <tbody>\n",
       "    <tr>\n",
       "      <th>BMW X6</th>\n",
       "      <td>3</td>\n",
       "      <td>2600</td>\n",
       "      <td>4800.0</td>\n",
       "      <td>3933.333333</td>\n",
       "    </tr>\n",
       "    <tr>\n",
       "      <th>Nissan Junior</th>\n",
       "      <td>4</td>\n",
       "      <td>40</td>\n",
       "      <td>117.5</td>\n",
       "      <td>121.250000</td>\n",
       "    </tr>\n",
       "    <tr>\n",
       "      <th>Peykan</th>\n",
       "      <td>3</td>\n",
       "      <td>23</td>\n",
       "      <td>30.0</td>\n",
       "      <td>34.333333</td>\n",
       "    </tr>\n",
       "  </tbody>\n",
       "</table>\n",
       "</div>"
      ],
      "text/plain": [
       "               count  peak_to_peak  median         mean\n",
       "model                                                  \n",
       "BMW X6             3          2600  4800.0  3933.333333\n",
       "Nissan Junior      4            40   117.5   121.250000\n",
       "Peykan             3            23    30.0    34.333333"
      ]
     },
     "execution_count": 9,
     "metadata": {},
     "output_type": "execute_result"
    }
   ],
   "source": [
    "grouped['price'].agg(['count', peak_to_peak, 'median', 'mean'])\n"
   ]
  },
  {
   "cell_type": "markdown",
   "metadata": {},
   "source": [
    "<p>می‌بینید که با استفاده از براکت ([ ])، می‌توانیم چندین تابع را همزمان استفاده کرده و خروجی هر کدام را به‌صورت ستونی جداگانه در دیتافریم نهایی دریافت کنیم.\n",
    "\n",
    "انواع کلید برای گروه‌بندی\n",
    "\n",
    "استفاده از آرایه به عنوان کلید\n",
    "\n",
    "مدیر نمایشگاه ماشین‌ها، بعد از بررسی صحبت‌های مشتریان، متوجه شد که در شهر، ماشین‌های دارای خوردگی مد شده‌اند! با آن‌که این موضوع به نظر او عجیب است اما برای افزایش خدمات مشتریان تصمیم گرفت تا جدولی برای نشان دادن محدوده‌ی قیمت ماشین‌ها بر اساس میزان خوردگی بسازد و به مشتریان جدید بدهد تا انتخاب‌های بهتری داشته باشند. بنابراین یکی از کارمندان خود را موظف کرد تا آرایه‌ای از میزان خوردگی هر ماشین ساخته و به او بدهد. در سلول زیر، متغیر car_impact شامل همین آرایه است. حال برای انجام گروه‌بندی کافی‌ست تا این آرایه را به عنوان کلید به تابع groupby() بدهیم.</p>"
   ]
  },
  {
   "cell_type": "code",
   "execution_count": 10,
   "metadata": {},
   "outputs": [
    {
     "data": {
      "text/html": [
       "<div>\n",
       "<style scoped>\n",
       "    .dataframe tbody tr th:only-of-type {\n",
       "        vertical-align: middle;\n",
       "    }\n",
       "\n",
       "    .dataframe tbody tr th {\n",
       "        vertical-align: top;\n",
       "    }\n",
       "\n",
       "    .dataframe thead th {\n",
       "        text-align: right;\n",
       "    }\n",
       "</style>\n",
       "<table border=\"1\" class=\"dataframe\">\n",
       "  <thead>\n",
       "    <tr style=\"text-align: right;\">\n",
       "      <th></th>\n",
       "      <th>min</th>\n",
       "      <th>max</th>\n",
       "    </tr>\n",
       "  </thead>\n",
       "  <tbody>\n",
       "    <tr>\n",
       "      <th>high</th>\n",
       "      <td>30</td>\n",
       "      <td>2200</td>\n",
       "    </tr>\n",
       "    <tr>\n",
       "      <th>low</th>\n",
       "      <td>25</td>\n",
       "      <td>4800</td>\n",
       "    </tr>\n",
       "    <tr>\n",
       "      <th>medium</th>\n",
       "      <td>48</td>\n",
       "      <td>4800</td>\n",
       "    </tr>\n",
       "  </tbody>\n",
       "</table>\n",
       "</div>"
      ],
      "text/plain": [
       "        min   max\n",
       "high     30  2200\n",
       "low      25  4800\n",
       "medium   48  4800"
      ]
     },
     "execution_count": 10,
     "metadata": {},
     "output_type": "execute_result"
    }
   ],
   "source": [
    "car_impact = ['low', 'high', 'medium', 'high', 'low', 'medium', 'medium', 'low', 'low', 'high']\n",
    "cars_df.groupby(car_impact)['price'].agg(['min', 'max'])\n"
   ]
  },
  {
   "cell_type": "markdown",
   "metadata": {},
   "source": [
    "<p>\n",
    "\n",
    "همان‌طور که می‌بینید، تابع groupby، هر مقدار آرایه‌ی car_impact را با سطرهای دیتافریم ‍cars_df تناظر داده و بر اساس مقادیر یکتای آرایه گروه‌بندی را انجام می‌دهد. در این حالت، نمایه‌های دیتافریم خروجی مقادیر آرایه‌ی car_impact هستند و بر همین اساس مقادیر کمینه و بیشینه‌ی قیمت محاسبه می‌شود.\n",
    "\n",
    "استفاده از تابع به عنوان کلید\n",
    "\n",
    "با آن‌که استفاده از آرایه‌ها یا سری‌های مختلف به عنوان کلید پرکاربرد است، اما در بسیاری موارد که دیتافریم بزرگ است نمی‌توانیم برای هر سطر یک مقدار جدید تعریف کرده تا از آن برای گروه‌بندی استفاده کنیم؛ در چنین حالت‌هایی، استفاده از تابعی که روی نمایه‌های دیتافریم اعمال شود بسیار پرکاربرد خواهد بود.\n",
    "\n",
    "برای مثال تصور کنید که دیتافریم ماشین‌ها دارای نمایه‌های عددی است که نشان‌دهنده‌ی شماره‌ی فاکتور خرید ماشین‌ها است. خوشبختانه این نمایشگاه شماره‌های فاکتور خود را با الگوی خاصی ثبت می‌کند و اولین رقم هر فاکتور، نشان‌‌دهنده‌ی سال خرید آن ماشین از شروع نمایشگاه است. مدیر نمایشگاه، برای انجام تحلیل‌ قیمت‌ها و محاسبه‌ی رشد نمایشگاه، می‌خواهد تا بر اساس سال، مجموع قیمت ماشین‌های موجود را داشته باشد. در این حالت، کافی‌ست تا تابعی برای پیدا کردن سال خرید ماشین بنویسیم:</p>"
   ]
  },
  {
   "cell_type": "code",
   "execution_count": 11,
   "metadata": {},
   "outputs": [
    {
     "data": {
      "text/plain": [
       "array([3, 2, 1, 2, 2, 1, 3, 1, 2, 2])"
      ]
     },
     "execution_count": 11,
     "metadata": {},
     "output_type": "execute_result"
    }
   ],
   "source": [
    "cars_df.index = [3523, 2636, 1031, 2159, 2973, 1083, 3214, 1111, 2525, 2445]\n",
    "\n",
    "def factor_split(number):\n",
    "    return np.array(number/1000).astype(int)\n",
    "\n",
    "factor_split(cars_df.index)\n"
   ]
  },
  {
   "cell_type": "markdown",
   "metadata": {},
   "source": [
    "<p>Plain text\n",
    "تابع factor_split، با تقسیم عدد بر ۱۰۰۰، اولین رقم شماره‌ی فاکتور (نمایه) که نشان‌دهنده‌ی سال خرید ماشین است را به‌دست می‌آورد و با تبدیل آن به int، از رقم‌های اعشاری آن خلاص می‌شود. در کد بالا، اعمال این تابع روی نمایه‌های دیتافریم cars_df را می‌بینیم. حال برای انجام گروه‌بندی بر اساس این اعداد، کافی است تا نام تابع را به عنوان کلید گروه‌بندی به تابع groupby بدهیم.</p>"
   ]
  },
  {
   "cell_type": "code",
   "execution_count": 12,
   "metadata": {},
   "outputs": [
    {
     "data": {
      "text/plain": [
       "1    4953\n",
       "2    7305\n",
       "3     130\n",
       "Name: price, dtype: int64"
      ]
     },
     "execution_count": 12,
     "metadata": {},
     "output_type": "execute_result"
    }
   ],
   "source": [
    "cars_df.groupby(factor_split)['price'].sum()\n"
   ]
  },
  {
   "cell_type": "markdown",
   "metadata": {},
   "source": [
    "<p>در این حالت، خود تابع groupby، تابع factor_split را روی نمایه‌های دیتافریم اعمال کرده و با توجه به خروجی آن، گروه‌بندی را انجام می‌دهد. در خروجی سلول بالا، مجموع قیمت ماشین‌ها را می‌بینیم که بر اساس رقم اول فاکتور (سال خرید) گروه‌بندی شده‌اند.\n",
    "\n",
    "استفاده از چند کلید برای گروه‌بندی\n",
    "\n",
    "همان‌طور که در درسنامه‌های پیشین دیدیم، قیمت ماشین‌ها با توجه به سال ساخت آن‌ها نیز تغییر می‌کند؛ بنابراین، برای تحلیل بهتر لازم است تا گروه‌بندی میانگین قیمت را، با توجه به مدل ماشین و نیز سال ساخت آن در نظر بگیریم. برای این کار کافی است تا به جای نام تنها یکی از ستون‌ها، آرایه‌ای از نام‌ها را به عنوان کلید استفاده کنیم:</p>"
   ]
  },
  {
   "cell_type": "code",
   "execution_count": 13,
   "metadata": {},
   "outputs": [
    {
     "data": {
      "text/plain": [
       "model          year\n",
       "BMW X6         1391    2200.0\n",
       "               1393    4800.0\n",
       "Nissan Junior  1375     117.5\n",
       "               1383     105.0\n",
       "               1389     145.0\n",
       "Peykan         1346      25.0\n",
       "               1357      30.0\n",
       "               1388      48.0\n",
       "Name: price, dtype: float64"
      ]
     },
     "execution_count": 13,
     "metadata": {},
     "output_type": "execute_result"
    }
   ],
   "source": [
    "price_datas = cars_df.groupby(['model', 'year'])['price'].mean()\n",
    "price_datas\n"
   ]
  },
  {
   "cell_type": "markdown",
   "metadata": {},
   "source": [
    "<p>در خروجی سلول بالا، model و year، همزمان به عنوان نمایه شناخته می‌شوند و برای هر مدل ماشین، سال ساخت‌های موجود نمایش داده شده و میانگین قیمت در آن حالت را مشاهده می‌کنیم. می‌بینید که در این حالت نیز کار با خروجی تابع گروه‌بندی دقیقاً مانند حالت‌های قبلی است و برای اعمال توابع می‌توانید از هر کدام از توابع تجمیع و یا توابعی که در درسنامه‌های آینده با آن آشنا می‌شوید، استفاده کنید.</p>"
   ]
  }
 ],
 "metadata": {
  "kernelspec": {
   "display_name": "qenv",
   "language": "python",
   "name": "python3"
  },
  "language_info": {
   "codemirror_mode": {
    "name": "ipython",
    "version": 3
   },
   "file_extension": ".py",
   "mimetype": "text/x-python",
   "name": "python",
   "nbconvert_exporter": "python",
   "pygments_lexer": "ipython3",
   "version": "3.9.12"
  }
 },
 "nbformat": 4,
 "nbformat_minor": 2
}
