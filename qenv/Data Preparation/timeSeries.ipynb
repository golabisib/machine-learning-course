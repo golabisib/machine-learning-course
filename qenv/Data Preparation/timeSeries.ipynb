{
 "cells": [
  {
   "cell_type": "code",
   "execution_count": 1,
   "metadata": {},
   "outputs": [],
   "source": [
    "import numpy as np\n",
    "import pandas as pd\n"
   ]
  },
  {
   "cell_type": "markdown",
   "metadata": {},
   "source": [
    "<p>سری زمانی چیست؟\n",
    "\n",
    "سری‌های زمانی متغیرهای تصادفی هستند که در واحد زمان نمونه‌برداری شده‌اند. نمونه‌برداری می تواند به‌‌صورت منظم در بازه‌های زمانی با قاعده‌ای انجام شده باشد؛ مثلاً هر ۱۰ ثانیه یک‌بار یا ساعتی یک‌بار. البته نوع نمونه‌برداری غیر منظم هم قابل تصور است. یعنی متغیر‌ تصادفی که نمونه‌برداری از آن طی بازه‌های زمانی منظمی انجام نمی‌شود.\n",
    "\n",
    "برای اینکه بتوانیم بهتر از کتابخانه‌های پایتون (پانداز) برای کار با سری‌های زمانی استفاده کنیم، لازم است مطمئن باشیم در کار با ماژول datetime خود پایتون به اندازه‌ی کافی مهارت داریم؛ پس در ادامه نیم‌نگاهی به این کتابخانه می‌اندازیم.</p>"
   ]
  },
  {
   "cell_type": "code",
   "execution_count": 2,
   "metadata": {},
   "outputs": [
    {
     "name": "stdout",
     "output_type": "stream",
     "text": [
      "2024-04-11\n"
     ]
    }
   ],
   "source": [
    "from datetime import date\n",
    "today = date(2024, 4, 11)\n",
    "print(today)\n"
   ]
  },
  {
   "cell_type": "code",
   "execution_count": 6,
   "metadata": {},
   "outputs": [
    {
     "name": "stdout",
     "output_type": "stream",
     "text": [
      "2024\n",
      "4\n",
      "11\n",
      "3\n"
     ]
    }
   ],
   "source": [
    "print(today.year)\n",
    "print(today.month)\n",
    "print(today.day)\n",
    "print(today.weekday())\n"
   ]
  },
  {
   "cell_type": "code",
   "execution_count": 7,
   "metadata": {},
   "outputs": [
    {
     "name": "stdout",
     "output_type": "stream",
     "text": [
      "19:40:56.000010\n"
     ]
    }
   ],
   "source": [
    "from datetime import time\n",
    "t_now = time(19,40,56,10)\n",
    "print(t_now)\n"
   ]
  },
  {
   "cell_type": "code",
   "execution_count": 10,
   "metadata": {},
   "outputs": [
    {
     "name": "stdout",
     "output_type": "stream",
     "text": [
      "19\n",
      "40\n",
      "56\n",
      "10\n"
     ]
    }
   ],
   "source": [
    "print(t_now.hour)\n",
    "print(t_now.minute)\n",
    "print(t_now.second)\n",
    "print(t_now.microsecond)\n"
   ]
  },
  {
   "cell_type": "code",
   "execution_count": 11,
   "metadata": {},
   "outputs": [
    {
     "name": "stdout",
     "output_type": "stream",
     "text": [
      "2024-04-11 19:43:45.000010\n"
     ]
    }
   ],
   "source": [
    "from datetime import datetime\n",
    "now = datetime(2024,4,11, 19,43,45,10)\n",
    "print(now)\n"
   ]
  },
  {
   "cell_type": "code",
   "execution_count": 12,
   "metadata": {},
   "outputs": [
    {
     "name": "stdout",
     "output_type": "stream",
     "text": [
      "2024-04-11\n",
      "2024\n",
      "4\n",
      "11\n"
     ]
    }
   ],
   "source": [
    "now_date = now.date()\n",
    "print(now_date)\n",
    "print(now_date.year)\n",
    "print(now_date.month)\n",
    "print(now_date.day)\n"
   ]
  },
  {
   "cell_type": "code",
   "execution_count": 13,
   "metadata": {},
   "outputs": [
    {
     "name": "stdout",
     "output_type": "stream",
     "text": [
      "19:43:45.000010\n",
      "19\n",
      "43\n",
      "45\n",
      "10\n"
     ]
    }
   ],
   "source": [
    "now_time = now.time()\n",
    "print(now_time)\n",
    "print(now_time.hour)\n",
    "print(now_time.minute)\n",
    "print(now_time.second)\n",
    "print(now_time.microsecond)\n"
   ]
  },
  {
   "cell_type": "code",
   "execution_count": 14,
   "metadata": {},
   "outputs": [
    {
     "name": "stdout",
     "output_type": "stream",
     "text": [
      "758 days, 0:00:00\n"
     ]
    }
   ],
   "source": [
    "t1 = date(2019,10,5)\n",
    "t2 = date(2021, 11, 1)\n",
    "print(t2-t1)\n"
   ]
  },
  {
   "cell_type": "markdown",
   "metadata": {},
   "source": [
    "<p> مثال: سفر در زمان\n",
    "\n",
    "در مثال زیر، یک روز پس از ۲۰۲۱/۸/۳۱ را با جمع کردن متغیر end_of_month و difference به دست می‌آوریم.اگر بخواهیم به روز قبل برگردیم، باید difference را از end_of_month کم کنیم.</p>"
   ]
  },
  {
   "cell_type": "code",
   "execution_count": 15,
   "metadata": {},
   "outputs": [
    {
     "name": "stdout",
     "output_type": "stream",
     "text": [
      "2021-09-01 00:00:00\n",
      "2021-08-30 00:00:00\n"
     ]
    }
   ],
   "source": [
    "from datetime import timedelta\n",
    "\n",
    "difference = timedelta(days=1)\n",
    "end_of_month = datetime(2021,8,31)\n",
    "\n",
    "next_day = end_of_month + difference\n",
    "prev_day = end_of_month - difference\n",
    "\n",
    "print(next_day)\n",
    "print(prev_day)\n"
   ]
  },
  {
   "cell_type": "markdown",
   "metadata": {},
   "source": [
    "<p>تبدیل رشته به زمان🔗\n",
    "\n",
    "مواقع زیادی پیش‌ می‌آید که رشته‌ای داشته باشیم و بخواهیم آن را به زمان تبدیل کنیم. به این منظور تابع strptime‍ تعریف شده است. به مثال زیر توجه کنید:</p>"
   ]
  },
  {
   "cell_type": "code",
   "execution_count": 18,
   "metadata": {},
   "outputs": [
    {
     "name": "stdout",
     "output_type": "stream",
     "text": [
      "2024-11-04 00:00:00\n"
     ]
    }
   ],
   "source": [
    "from datetime import datetime\n",
    "date_in_str = '2024-11-04'\n",
    "date_in_datetime = datetime.strptime(date_in_str, '%Y-%m-%d')\n",
    "print(date_in_datetime)\n"
   ]
  }
 ],
 "metadata": {
  "kernelspec": {
   "display_name": "qenv",
   "language": "python",
   "name": "python3"
  },
  "language_info": {
   "codemirror_mode": {
    "name": "ipython",
    "version": 3
   },
   "file_extension": ".py",
   "mimetype": "text/x-python",
   "name": "python",
   "nbconvert_exporter": "python",
   "pygments_lexer": "ipython3",
   "version": "3.9.12"
  }
 },
 "nbformat": 4,
 "nbformat_minor": 2
}
