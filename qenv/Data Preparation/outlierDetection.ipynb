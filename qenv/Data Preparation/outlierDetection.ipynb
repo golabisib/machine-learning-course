{
 "cells": [
  {
   "cell_type": "code",
   "execution_count": 1,
   "metadata": {},
   "outputs": [],
   "source": [
    "import numpy as np\n",
    "import pandas as pd\n"
   ]
  },
  {
   "cell_type": "code",
   "execution_count": 3,
   "metadata": {},
   "outputs": [
    {
     "data": {
      "text/plain": [
       "array([   6,    6,   -4,   -9,   -4,   -8,    0,    9,  -10,   -4, -100,\n",
       "          8,   -1,    0,   -6,   -5,    2,    4,    8,   -8,   -3,    7,\n",
       "         -9,   -1,   -3,    7,   -2,   50,    7,   -5], dtype=int32)"
      ]
     },
     "execution_count": 3,
     "metadata": {},
     "output_type": "execute_result"
    }
   ],
   "source": [
    "seri = pd.Series(np.random.randint(-10,10,size= 30))\n",
    "seri[10] = -100\n",
    "seri[27] = 50\n",
    "np.array(seri)\n"
   ]
  },
  {
   "cell_type": "code",
   "execution_count": 4,
   "metadata": {},
   "outputs": [
    {
     "name": "stdout",
     "output_type": "stream",
     "text": [
      "First quartile = -5.0\n",
      "Third quartile = 6.0\n"
     ]
    }
   ],
   "source": [
    "Q1 = seri.quantile(0.25)\n",
    "Q3 = seri.quantile(0.75)\n",
    "print(f\"First quartile = {Q1}\")\n",
    "print(f\"Third quartile = {Q3}\")\n"
   ]
  },
  {
   "cell_type": "code",
   "execution_count": 5,
   "metadata": {},
   "outputs": [
    {
     "data": {
      "text/plain": [
       "array([  6,   6,  -4,  -9,  -4,  -8,   0,   9, -10,  -4,   8,  -1,   0,\n",
       "        -6,  -5,   2,   4,   8,  -8,  -3,   7,  -9,  -1,  -3,   7,  -2,\n",
       "         7,  -5], dtype=int32)"
      ]
     },
     "execution_count": 5,
     "metadata": {},
     "output_type": "execute_result"
    }
   ],
   "source": [
    "IQR = Q3 - Q1\n",
    "seri.drop(seri[(seri.values < Q1-1.5*IQR) | (seri.values > Q3+1.5*IQR)].index , inplace= True)\n",
    "np.array(seri)\n"
   ]
  }
 ],
 "metadata": {
  "kernelspec": {
   "display_name": "qenv",
   "language": "python",
   "name": "python3"
  },
  "language_info": {
   "codemirror_mode": {
    "name": "ipython",
    "version": 3
   },
   "file_extension": ".py",
   "mimetype": "text/x-python",
   "name": "python",
   "nbconvert_exporter": "python",
   "pygments_lexer": "ipython3",
   "version": "3.9.12"
  }
 },
 "nbformat": 4,
 "nbformat_minor": 2
}
